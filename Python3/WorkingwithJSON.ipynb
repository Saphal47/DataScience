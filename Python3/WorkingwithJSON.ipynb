{
 "cells": [
  {
   "cell_type": "markdown",
   "metadata": {},
   "source": [
    "# Working With JSON #"
   ]
  },
  {
   "cell_type": "code",
   "execution_count": 5,
   "metadata": {},
   "outputs": [
    {
     "name": "stdout",
     "output_type": "stream",
     "text": [
      "sdfsgjg\n"
     ]
    }
   ],
   "source": [
    "x=input(\"sdfs\")"
   ]
  },
  {
   "cell_type": "code",
   "execution_count": 61,
   "metadata": {},
   "outputs": [
    {
     "name": "stdout",
     "output_type": "stream",
     "text": [
      "{\"tom\": {\"name\": \"tom\", \"address\": \"1 red street, usa\", \"phone\": 8603546762}, \"som\": {\"name\": \"som\", \"address\": \"8 white street, canada\", \"phone\": 4535467623}}\n"
     ]
    }
   ],
   "source": [
    "#read address book\n",
    "book = {}\n",
    "book['tom'] = {\n",
    "    'name' : 'tom',\n",
    "    'address' : '1 red street, usa',\n",
    "    'phone' : 8603546762\n",
    "}\n",
    "\n",
    "book['som'] = {\n",
    "    'name' : 'som',\n",
    "    'address' : '8 white street, canada',\n",
    "    'phone' : 4535467623\n",
    "}\n",
    "\n",
    "import json\n",
    "#taking dictionary as input & dumping as string toconvert it into JSON FILE\n",
    "s = json.dumps(book)\n",
    "print(s)"
   ]
  },
  {
   "cell_type": "code",
   "execution_count": 57,
   "metadata": {},
   "outputs": [],
   "source": [
    "#above is json string\n",
    "# Executing it as JSON file\n",
    "with open(\"C://Users//Hp//Desktop//book1.txt\",\"w\") as f:\n",
    "    f.write(s)\n",
    "# w to write the file\n",
    "#the book.txt json file will be created having S data\n"
   ]
  },
  {
   "cell_type": "markdown",
   "metadata": {},
   "source": [
    "#### This content in JSON format can be extracted using C++ or Java program.\n",
    "\n",
    "JSON is called data Exchange Format"
   ]
  },
  {
   "cell_type": "code",
   "execution_count": 62,
   "metadata": {},
   "outputs": [
    {
     "data": {
      "text/plain": [
       "'{\"tom\": {\"name\": \"tom\", \"address\": \"1 red street, usa\", \"phone\": 8603546762}, \"som\": {\"name\": \"som\", \"address\": \"8 white street, canada\", \"phone\": 4535467623}}'"
      ]
     },
     "execution_count": 62,
     "metadata": {},
     "output_type": "execute_result"
    }
   ],
   "source": [
    "#to read that file\n",
    "f=open(\"C://Users//Hp//Desktop//book1.txt\",\"r\")\n",
    "# r to read the file into s\n",
    "s=f.read()\n",
    "s\n",
    "# below output is a string"
   ]
  },
  {
   "cell_type": "markdown",
   "metadata": {},
   "source": [
    "### Converting JSON Object to Dictionary\n",
    "\n",
    "Using json.loads()"
   ]
  },
  {
   "cell_type": "code",
   "execution_count": 63,
   "metadata": {},
   "outputs": [
    {
     "data": {
      "text/plain": [
       "{'tom': {'name': 'tom', 'address': '1 red street, usa', 'phone': 8603546762},\n",
       " 'som': {'name': 'som',\n",
       "  'address': '8 white street, canada',\n",
       "  'phone': 4535467623}}"
      ]
     },
     "execution_count": 63,
     "metadata": {},
     "output_type": "execute_result"
    }
   ],
   "source": [
    "# to read data from s\n",
    "import json\n",
    "books = json.loads(s)\n",
    "books\n",
    "# this output is an dictionary"
   ]
  },
  {
   "cell_type": "code",
   "execution_count": 64,
   "metadata": {},
   "outputs": [
    {
     "data": {
      "text/plain": [
       "dict"
      ]
     },
     "execution_count": 64,
     "metadata": {},
     "output_type": "execute_result"
    }
   ],
   "source": [
    "type(books)"
   ]
  },
  {
   "cell_type": "code",
   "execution_count": 48,
   "metadata": {},
   "outputs": [
    {
     "data": {
      "text/plain": [
       "{'name': 'som', 'address': '8 white street, canada', 'phone': 4535467623}"
      ]
     },
     "execution_count": 48,
     "metadata": {},
     "output_type": "execute_result"
    }
   ],
   "source": [
    "# extract data of som\n",
    "books['som']"
   ]
  },
  {
   "cell_type": "code",
   "execution_count": 49,
   "metadata": {},
   "outputs": [
    {
     "data": {
      "text/plain": [
       "8603546762"
      ]
     },
     "execution_count": 49,
     "metadata": {},
     "output_type": "execute_result"
    }
   ],
   "source": [
    "books['tom']['phone']\n",
    "# extracting using key values"
   ]
  },
  {
   "cell_type": "code",
   "execution_count": 69,
   "metadata": {},
   "outputs": [
    {
     "name": "stdout",
     "output_type": "stream",
     "text": [
      "{'name': 'tom', 'address': '1 red street, usa', 'phone': 8603546762}\n",
      "{'name': 'som', 'address': '8 white street, canada', 'phone': 4535467623}\n"
     ]
    }
   ],
   "source": [
    "# printing all the persons in books\n",
    "for person in book:\n",
    "    print(book[person])\n",
    "    "
   ]
  },
  {
   "cell_type": "code",
   "execution_count": null,
   "metadata": {},
   "outputs": [],
   "source": []
  }
 ],
 "metadata": {
  "kernelspec": {
   "display_name": "Python 3",
   "language": "python",
   "name": "python3"
  },
  "language_info": {
   "codemirror_mode": {
    "name": "ipython",
    "version": 3
   },
   "file_extension": ".py",
   "mimetype": "text/x-python",
   "name": "python",
   "nbconvert_exporter": "python",
   "pygments_lexer": "ipython3",
   "version": "3.8.5"
  }
 },
 "nbformat": 4,
 "nbformat_minor": 4
}

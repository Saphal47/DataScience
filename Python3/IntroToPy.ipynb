{
 "cells": [
  {
   "cell_type": "code",
   "execution_count": 18,
   "metadata": {},
   "outputs": [
    {
     "name": "stdout",
     "output_type": "stream",
     "text": [
      "1220\n"
     ]
    }
   ],
   "source": [
    " rent=1220\n",
    " gas=202.34\n",
    "groceries=3934.34\n",
    "print(rent)"
   ]
  },
  {
   "cell_type": "code",
   "execution_count": 19,
   "metadata": {},
   "outputs": [
    {
     "name": "stdout",
     "output_type": "stream",
     "text": [
      "5356.68\n"
     ]
    }
   ],
   "source": [
    "total=rent+gas+groceries\n",
    "print(total)"
   ]
  },
  {
   "cell_type": "code",
   "execution_count": 20,
   "metadata": {},
   "outputs": [
    {
     "name": "stdout",
     "output_type": "stream",
     "text": [
      "Expensive items: rent gas groceries\n"
     ]
    }
   ],
   "source": [
    "rent=1400\n",
    "# Use ctrl+/ to comment \n",
    "#careful in indenting of the code.Start with new line\n",
    "a=\"rent\"\n",
    "b=\"gas\" \n",
    "c=\"groceries\"\n",
    "print(\"Expensive items:\",a,b,c)"
   ]
  },
  {
   "cell_type": "markdown",
   "metadata": {},
   "source": [
    "Numbers in Python"
   ]
  },
  {
   "cell_type": "code",
   "execution_count": 21,
   "metadata": {},
   "outputs": [
    {
     "data": {
      "text/plain": [
       "128"
      ]
     },
     "execution_count": 21,
     "metadata": {},
     "output_type": "execute_result"
    }
   ],
   "source": [
    "12+334\n",
    "4*32"
   ]
  },
  {
   "cell_type": "code",
   "execution_count": 22,
   "metadata": {},
   "outputs": [
    {
     "data": {
      "text/plain": [
       "2"
      ]
     },
     "execution_count": 22,
     "metadata": {},
     "output_type": "execute_result"
    }
   ],
   "source": [
    "11%3"
   ]
  },
  {
   "cell_type": "code",
   "execution_count": 23,
   "metadata": {},
   "outputs": [
    {
     "data": {
      "text/plain": [
       "9"
      ]
     },
     "execution_count": 23,
     "metadata": {},
     "output_type": "execute_result"
    }
   ],
   "source": [
    "3**2"
   ]
  },
  {
   "cell_type": "code",
   "execution_count": 24,
   "metadata": {},
   "outputs": [
    {
     "data": {
      "text/plain": [
       "579"
      ]
     },
     "execution_count": 24,
     "metadata": {},
     "output_type": "execute_result"
    }
   ],
   "source": [
    "gaya=129\n",
    "dhanbad=450\n",
    "total=gaya+dhanbad\n",
    "total\n"
   ]
  },
  {
   "cell_type": "code",
   "execution_count": 25,
   "metadata": {},
   "outputs": [
    {
     "data": {
      "text/plain": [
       "1.6880466472303206"
      ]
     },
     "execution_count": 25,
     "metadata": {},
     "output_type": "execute_result"
    }
   ],
   "source": [
    "speed_kph=343\n",
    "time=total/speed_kph\n",
    "time"
   ]
  },
  {
   "cell_type": "code",
   "execution_count": 26,
   "metadata": {},
   "outputs": [
    {
     "data": {
      "text/plain": [
       "1.688"
      ]
     },
     "execution_count": 26,
     "metadata": {},
     "output_type": "execute_result"
    }
   ],
   "source": [
    "round(time,3)\n",
    "#precision of decimal places"
   ]
  },
  {
   "cell_type": "code",
   "execution_count": 27,
   "metadata": {},
   "outputs": [
    {
     "name": "stdout",
     "output_type": "stream",
     "text": [
      "16 36 0.2999999999999998\n"
     ]
    }
   ],
   "source": [
    "#preference of operators\n",
    "var=10+2*3\n",
    "val=(10+2)*3\n",
    "ans=6-5.7\n",
    "print(var,val,ans)"
   ]
  },
  {
   "cell_type": "code",
   "execution_count": 28,
   "metadata": {},
   "outputs": [
    {
     "data": {
      "text/plain": [
       "0.3"
      ]
     },
     "execution_count": 28,
     "metadata": {},
     "output_type": "execute_result"
    }
   ],
   "source": [
    "round(ans,2)"
   ]
  },
  {
   "cell_type": "markdown",
   "metadata": {},
   "source": [
    "Strings in Python"
   ]
  },
  {
   "cell_type": "code",
   "execution_count": 29,
   "metadata": {},
   "outputs": [
    {
     "data": {
      "text/plain": [
       "'i'"
      ]
     },
     "execution_count": 29,
     "metadata": {},
     "output_type": "execute_result"
    }
   ],
   "source": [
    "#same as c++\n",
    "food=\"ice cream\"\n",
    "food[0]\n"
   ]
  },
  {
   "cell_type": "code",
   "execution_count": 30,
   "metadata": {},
   "outputs": [
    {
     "ename": "TypeError",
     "evalue": "'str' object does not support item assignment",
     "output_type": "error",
     "traceback": [
      "\u001b[1;31m---------------------------------------------------------------------------\u001b[0m",
      "\u001b[1;31mTypeError\u001b[0m                                 Traceback (most recent call last)",
      "\u001b[1;32m<ipython-input-30-fd25256846c1>\u001b[0m in \u001b[0;36m<module>\u001b[1;34m\u001b[0m\n\u001b[0;32m      1\u001b[0m \u001b[1;31m#can't change the string\u001b[0m\u001b[1;33m\u001b[0m\u001b[1;33m\u001b[0m\u001b[1;33m\u001b[0m\u001b[0m\n\u001b[1;32m----> 2\u001b[1;33m \u001b[0mfood\u001b[0m\u001b[1;33m[\u001b[0m\u001b[1;36m5\u001b[0m\u001b[1;33m]\u001b[0m\u001b[1;33m=\u001b[0m\u001b[1;34m'h'\u001b[0m\u001b[1;33m\u001b[0m\u001b[1;33m\u001b[0m\u001b[0m\n\u001b[0m",
      "\u001b[1;31mTypeError\u001b[0m: 'str' object does not support item assignment"
     ]
    }
   ],
   "source": [
    "#can't change the string \n",
    "food[5]='h'"
   ]
  },
  {
   "cell_type": "code",
   "execution_count": null,
   "metadata": {},
   "outputs": [],
   "source": [
    "#access substring first index included last excluded so do +1\n",
    "food[0:3] #to get ice"
   ]
  },
  {
   "cell_type": "code",
   "execution_count": null,
   "metadata": {},
   "outputs": [],
   "source": [
    "c=food[4:8]\n",
    "s=food[4:9]\n",
    "print(c,s)"
   ]
  },
  {
   "cell_type": "code",
   "execution_count": null,
   "metadata": {},
   "outputs": [],
   "source": [
    "b=food[:6]\n",
    "x=food[3:]\n",
    "#if index not specified go till extremes assume 0 and last index-1 \n",
    "print(b,x)"
   ]
  },
  {
   "cell_type": "code",
   "execution_count": null,
   "metadata": {},
   "outputs": [],
   "source": [
    "address = '''1 red street\n",
    "chicago\n",
    "USA'''\n",
    "print(address)"
   ]
  },
  {
   "cell_type": "code",
   "execution_count": null,
   "metadata": {},
   "outputs": [],
   "source": [
    "s1=\"Hare\"\n",
    "s2=\"Krishna\"\n",
    "s1+' '+s2"
   ]
  },
  {
   "cell_type": "code",
   "execution_count": null,
   "metadata": {},
   "outputs": [],
   "source": [
    "#Adding no. to string\n",
    "no=24\n",
    "y='Cars'\n",
    "y + ' ' + no"
   ]
  },
  {
   "cell_type": "code",
   "execution_count": null,
   "metadata": {},
   "outputs": [],
   "source": [
    "#converting no to string \n",
    "str(no)\n"
   ]
  },
  {
   "cell_type": "code",
   "execution_count": null,
   "metadata": {},
   "outputs": [],
   "source": [
    "y+ ' '+str(no)"
   ]
  },
  {
   "cell_type": "markdown",
   "metadata": {},
   "source": [
    "Lists in Python "
   ]
  },
  {
   "cell_type": "code",
   "execution_count": 33,
   "metadata": {},
   "outputs": [
    {
     "data": {
      "text/plain": [
       "['humility', 'compassion', 'pride', 'strength']"
      ]
     },
     "execution_count": 33,
     "metadata": {},
     "output_type": "execute_result"
    }
   ],
   "source": [
    "item1=\"humility\"\n",
    "item2=\"compassion\"\n",
    "item3=\"pride\"\n",
    "item4=\"strength\"\n",
    "items=[item1,item2,item3,item4]\n",
    "items"
   ]
  },
  {
   "cell_type": "code",
   "execution_count": 34,
   "metadata": {},
   "outputs": [
    {
     "name": "stdout",
     "output_type": "stream",
     "text": [
      "['humility', 'compassion', 'gratitude', 'strength']\n",
      "humility strength\n"
     ]
    }
   ],
   "source": [
    "a=items[0]\n",
    "b=items[-1] #last index\n",
    "items[2]=\"gratitude\"\n",
    "print(items)\n",
    "print(a,b)"
   ]
  },
  {
   "cell_type": "code",
   "execution_count": 35,
   "metadata": {},
   "outputs": [
    {
     "data": {
      "text/plain": [
       "['humility', 'compassion', 'gratitude']"
      ]
     },
     "execution_count": 35,
     "metadata": {},
     "output_type": "execute_result"
    }
   ],
   "source": [
    " #access range in list\n",
    " items[0:3] #to access first three ele last index excluded"
   ]
  },
  {
   "cell_type": "code",
   "execution_count": 36,
   "metadata": {},
   "outputs": [
    {
     "data": {
      "text/plain": [
       "['humility', 'compassion', 'gratitude', 'strength']"
      ]
     },
     "execution_count": 36,
     "metadata": {},
     "output_type": "execute_result"
    }
   ],
   "source": [
    "#\n",
    "items"
   ]
  },
  {
   "cell_type": "code",
   "execution_count": 37,
   "metadata": {},
   "outputs": [
    {
     "data": {
      "text/plain": [
       "['humility', 'compassion', 'gratitude', 'strength', 'discipline']"
      ]
     },
     "execution_count": 37,
     "metadata": {},
     "output_type": "execute_result"
    }
   ],
   "source": [
    " #change the index of item\n",
    "items.append(\"discipline\")\n",
    "items\n"
   ]
  },
  {
   "cell_type": "code",
   "execution_count": 38,
   "metadata": {},
   "outputs": [
    {
     "name": "stdout",
     "output_type": "stream",
     "text": [
      "To insert and ele at desired index:list.insert(index,value):\n",
      "['humility', 'responsive', 'compassion', 'gratitude', 'strength', 'discipline']\n"
     ]
    }
   ],
   "source": [
    "print(\"To insert and ele at desired index:list.insert(index,value):\")\n",
    "items.insert(1,\"responsive\")\n",
    "print(items)"
   ]
  },
  {
   "cell_type": "code",
   "execution_count": 39,
   "metadata": {},
   "outputs": [
    {
     "ename": "TypeError",
     "evalue": "can only concatenate list (not \"str\") to list",
     "output_type": "error",
     "traceback": [
      "\u001b[1;31m---------------------------------------------------------------------------\u001b[0m",
      "\u001b[1;31mTypeError\u001b[0m                                 Traceback (most recent call last)",
      "\u001b[1;32m<ipython-input-39-a22430e71162>\u001b[0m in \u001b[0;36m<module>\u001b[1;34m\u001b[0m\n\u001b[1;32m----> 1\u001b[1;33m \u001b[0mitems\u001b[0m \u001b[1;33m+\u001b[0m \u001b[1;34m\"anger\"\u001b[0m\u001b[1;33m\u001b[0m\u001b[1;33m\u001b[0m\u001b[0m\n\u001b[0m",
      "\u001b[1;31mTypeError\u001b[0m: can only concatenate list (not \"str\") to list"
     ]
    }
   ],
   "source": [
    "\n",
    "items + \"anger\"\n"
   ]
  },
  {
   "cell_type": "code",
   "execution_count": 40,
   "metadata": {},
   "outputs": [
    {
     "name": "stdout",
     "output_type": "stream",
     "text": [
      "6 \n",
      "\n",
      "['Japa', 'SPBR', 'Pasttimes', 'Mundane Talks', 'Magazines', 'Prajalpa']\n"
     ]
    }
   ],
   "source": [
    "#merge two lists using + \n",
    "good_Dog=[\"Japa\",\"SPBR\",\"Pasttimes\"]\n",
    "bad_Dog=[\"Mundane Talks\",\"Magazines\",\"Prajalpa\"]\n",
    "\n",
    "human=good_Dog + bad_Dog\n",
    "print(len(human),'\\n')\n",
    "print(human)"
   ]
  },
  {
   "cell_type": "code",
   "execution_count": 41,
   "metadata": {},
   "outputs": [
    {
     "data": {
      "text/plain": [
       "6"
      ]
     },
     "execution_count": 41,
     "metadata": {},
     "output_type": "execute_result"
    }
   ],
   "source": [
    "len(items)"
   ]
  },
  {
   "cell_type": "code",
   "execution_count": 42,
   "metadata": {},
   "outputs": [
    {
     "data": {
      "text/plain": [
       "True"
      ]
     },
     "execution_count": 42,
     "metadata": {},
     "output_type": "execute_result"
    }
   ],
   "source": [
    "#check if ele present in list or not\n",
    "\"discipline\" in items\n"
   ]
  },
  {
   "cell_type": "code",
   "execution_count": 43,
   "metadata": {},
   "outputs": [
    {
     "data": {
      "text/plain": [
       "False"
      ]
     },
     "execution_count": 43,
     "metadata": {},
     "output_type": "execute_result"
    }
   ],
   "source": [
    "\"pride\" in items"
   ]
  },
  {
   "cell_type": "markdown",
   "metadata": {},
   "source": [
    "IF Else Statement"
   ]
  },
  {
   "cell_type": "code",
   "execution_count": 44,
   "metadata": {},
   "outputs": [
    {
     "name": "stdout",
     "output_type": "stream",
     "text": [
      "Enter a number:56\n",
      "Even no.\n"
     ]
    }
   ],
   "source": [
    "#check odd or even no.v\n",
    "num=input(\"Enter a number:\")\n",
    "x=int(num) #typecasting to int\n",
    "\n",
    "if(x %2 == 0):\n",
    "    print(\"Even no.\")\n",
    "else:\n",
    "    print(\"Odd no.\")"
   ]
  },
  {
   "cell_type": "code",
   "execution_count": null,
   "metadata": {},
   "outputs": [],
   "source": [
    "b =input(\"number\")\n",
    "v=int(b)\n",
    "print(v)\n"
   ]
  },
  {
   "cell_type": "code",
   "execution_count": null,
   "metadata": {},
   "outputs": [],
   "source": [
    "indian=[\"SweetRice\",\"daal\",\"litti\"]\n",
    "chinese=[\"eggrole\",\"chowmin\",\"fried rice\"]\n",
    "italian=[\"pizza\",\"pasta\",\"risotto\"]\n",
    "\n",
    "dish=input(\"Enter dish name:\")\n",
    "\n",
    "if dish in indian:\n",
    "    print(dish ,\":indian\")\n",
    "elif dish in chinese:\n",
    "    print(dish ,\":chinese\")\n",
    "elif dish in italian:\n",
    "    print(dish ,\":italian\")\n",
    "else:\n",
    "    print(\"None of these\")"
   ]
  },
  {
   "cell_type": "markdown",
   "metadata": {},
   "source": [
    "Loops in Python"
   ]
  },
  {
   "cell_type": "code",
   "execution_count": null,
   "metadata": {},
   "outputs": [],
   "source": [
    "#total expenses using for loop\n",
    "exp = [2323,564,53454,7865,12007,4329,3424]\n",
    "sum = 0 \n",
    "for x in exp:\n",
    "    sum+=x\n",
    "print(sum)    \n",
    "    \n"
   ]
  },
  {
   "cell_type": "code",
   "execution_count": null,
   "metadata": {},
   "outputs": [],
   "source": [
    "# print 1 to n using range\n",
    "for i in range(1,17): #to print till 16 last index excluded\n",
    "    print(i, i*i , i*i*i )\n",
    "    "
   ]
  },
  {
   "cell_type": "code",
   "execution_count": null,
   "metadata": {},
   "outputs": [],
   "source": [
    "# printing the items in list\n",
    "exp = [2324,5465,75676,97680,3456,4531,6534]\n",
    "total = 0\n",
    "for i in range(len(exp)):# same as range(0,5) since start not given so taken 0\n",
    "    print(\"Month:\", (i+1),\"Expense\",exp[i])\n",
    "    total += exp[i]\n",
    "    \n",
    "print(\"Total expense is:\", total)    "
   ]
  },
  {
   "cell_type": "markdown",
   "metadata": {},
   "source": [
    "Linear Search in List"
   ]
  },
  {
   "cell_type": "code",
   "execution_count": null,
   "metadata": {},
   "outputs": [],
   "source": [
    "Characters=[\"Prahlad\" , \"Dhruv\" , \"Prithu\" , \"Ambrish\" , \"Janak\" , \"Chanakya\"]\n",
    "key=\"Prithu\"\n",
    "for i in Characters:\n",
    "    if(i==key):\n",
    "        print(\" Character:\",i)\n",
    "        break;\n",
    "    else:\n",
    "        print(\"not found\")"
   ]
  },
  {
   "cell_type": "markdown",
   "metadata": {},
   "source": [
    "Print sq of numbers  1 to 5 except even numbers\n"
   ]
  },
  {
   "cell_type": "code",
   "execution_count": null,
   "metadata": {},
   "outputs": [],
   "source": [
    "for i in range(1,6,2):#the third parameter indicates the increment of i\n",
    "    print(i*i)"
   ]
  },
  {
   "cell_type": "code",
   "execution_count": null,
   "metadata": {},
   "outputs": [],
   "source": [
    "for i in range(1,6):\n",
    "    if(i%2==0):\n",
    "        continue\n",
    "    print(i*i)"
   ]
  },
  {
   "cell_type": "markdown",
   "metadata": {},
   "source": [
    "Functions in Py"
   ]
  },
  {
   "cell_type": "code",
   "execution_count": null,
   "metadata": {},
   "outputs": [],
   "source": [
    "#Sum of no. in a list\n",
    "l1=[232,546,432,454,232,676]\n",
    "l2=[565,45,342,-89,54,0]\n",
    "t1=0\n",
    "t2=0\n",
    "for item1 in l1:\n",
    "    t1+=item1\n",
    "for item2 in l2:\n",
    "    t2+=item2\n",
    "print(t1,t2)\n"
   ]
  },
  {
   "cell_type": "code",
   "execution_count": null,
   "metadata": {},
   "outputs": [],
   "source": [
    "#Using function for sum\n",
    "def calcSum(list_name):\n",
    "    total=0\n",
    "    for item in list_name:\n",
    "        total+=item\n",
    "    return total\n",
    "print(calcSum(l1),calcSum(l2))"
   ]
  },
  {
   "cell_type": "code",
   "execution_count": null,
   "metadata": {},
   "outputs": [],
   "source": [
    "total=0\n",
    "def sumof(p,q):\n",
    "    print(\"Printing sum of:\",p,q)\n",
    "    total=int(p) + int(q)\n",
    "    print(\"Total inside fxn:\",total)\n",
    "    return total\n",
    "\n",
    "p=input(\"Enter first no:\")\n",
    "q=input(\"Enter second no:\")\n",
    "ans = sumof(p,q)\n",
    "print(\"Total outside fxn:\",ans)\n",
    "\n"
   ]
  },
  {
   "cell_type": "raw",
   "metadata": {},
   "source": [
    "\n"
   ]
  },
  {
   "cell_type": "code",
   "execution_count": null,
   "metadata": {},
   "outputs": [],
   "source": []
  }
 ],
 "metadata": {
  "kernelspec": {
   "display_name": "Python 3",
   "language": "python",
   "name": "python3"
  },
  "language_info": {
   "codemirror_mode": {
    "name": "ipython",
    "version": 3
   },
   "file_extension": ".py",
   "mimetype": "text/x-python",
   "name": "python",
   "nbconvert_exporter": "python",
   "pygments_lexer": "ipython3",
   "version": "3.8.5"
  }
 },
 "nbformat": 4,
 "nbformat_minor": 4
}
